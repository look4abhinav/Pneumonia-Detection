{
 "cells": [
  {
   "cell_type": "code",
   "execution_count": 14,
   "metadata": {},
   "outputs": [],
   "source": [
    "import torch\n",
    "from torch import nn\n",
    "from torchvision import transforms\n",
    "from torchvision import models\n",
    "from PIL import Image\n",
    "from glob import glob"
   ]
  },
  {
   "cell_type": "code",
   "execution_count": 15,
   "metadata": {},
   "outputs": [],
   "source": [
    "class Net(nn.Module):\n",
    "    def __init__(self, *args, **kwargs) -> None:\n",
    "        super().__init__(*args, **kwargs)\n",
    "        self.base_model = models.efficientnet_b0(\n",
    "            weights=models.EfficientNet_B0_Weights.DEFAULT\n",
    "        )\n",
    "        self.layer = nn.Sequential(nn.Flatten(), nn.Linear(1000, 2))\n",
    "\n",
    "    def forward(self, x):\n",
    "        x = self.base_model(x)\n",
    "        return self.layer(x)"
   ]
  },
  {
   "cell_type": "code",
   "execution_count": 33,
   "metadata": {},
   "outputs": [
    {
     "name": "stdout",
     "output_type": "stream",
     "text": [
      "Model Loaded on mps\n"
     ]
    }
   ],
   "source": [
    "device = torch.device(\"mps\" if torch.backends.mps.is_available() else \"cpu\")\n",
    "\n",
    "model_data = torch.load(\n",
    "    \"PneumoniaClassificationModel.pth\", map_location=device\n",
    ")\n",
    "\n",
    "classifier = model_data[\"model\"]\n",
    "classifier.load_state_dict(model_data[\"state_dict\"])\n",
    "\n",
    "# device = torch.device(\"cuda\" if torch.cuda.is_available() else \"cpu\")\n",
    "classifier.to(device)\n",
    "classifier = classifier.module\n",
    "\n",
    "print(\"Model Loaded on\", device)"
   ]
  },
  {
   "cell_type": "code",
   "execution_count": 35,
   "metadata": {},
   "outputs": [
    {
     "name": "stdout",
     "output_type": "stream",
     "text": [
      "PNEUMONIA\n",
      "PNEUMONIA\n",
      "PNEUMONIA\n",
      "PNEUMONIA\n"
     ]
    }
   ],
   "source": [
    "# Test\n",
    "classes = [\"NORMAL\", \"PNEUMONIA\"]\n",
    "\n",
    "transformer = transforms.Compose(\n",
    "    [\n",
    "        transforms.Resize((256, 256)),\n",
    "        transforms.ToTensor(),\n",
    "        transforms.Normalize((0.485, 0.456, 0.406), (0.229, 0.224, 0.225)),\n",
    "    ]\n",
    ")\n",
    "\n",
    "images = glob(\"Tests/*.jpeg\")\n",
    "\n",
    "for image in images:\n",
    "    image = Image.open(image).convert(\"RGB\")\n",
    "    with torch.no_grad():\n",
    "        image_tensor = transformer(image)\n",
    "        image_tensor = torch.unsqueeze(image_tensor, 0)\n",
    "        image_tensor = image_tensor.to(device)\n",
    "\n",
    "        output = classifier(image_tensor)\n",
    "        prediction = torch.argmax(output.data, 1)\n",
    "        print(classes[prediction.item()])"
   ]
  }
 ],
 "metadata": {
  "kernelspec": {
   "display_name": "Python 3",
   "language": "python",
   "name": "python3"
  },
  "language_info": {
   "codemirror_mode": {
    "name": "ipython",
    "version": 3
   },
   "file_extension": ".py",
   "mimetype": "text/x-python",
   "name": "python",
   "nbconvert_exporter": "python",
   "pygments_lexer": "ipython3",
   "version": "3.12.3"
  }
 },
 "nbformat": 4,
 "nbformat_minor": 2
}
